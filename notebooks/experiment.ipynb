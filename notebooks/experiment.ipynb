{
 "cells": [
  {
   "cell_type": "markdown",
   "metadata": {},
   "source": [
    "# Jupyter Notebook for BTCGraphGuard\n",
    "\n",
    "**Authors: Xuhui Zhan, Tianhao Qu, Siyu Yang**\n"
   ]
  },
  {
   "cell_type": "markdown",
   "metadata": {},
   "source": [
    "## Import Libraries"
   ]
  },
  {
   "cell_type": "code",
   "execution_count": 1,
   "metadata": {},
   "outputs": [],
   "source": [
    "import pandas as pd\n",
    "import networkx as nx\n",
    "import os\n",
    "import torch\n",
    "import numpy as np\n",
    "import matplotlib.pyplot as plt\n",
    "import random\n",
    "from sklearn.preprocessing import LabelEncoder\n",
    "from torch_geometric.data import Data\n",
    "import torch.nn.functional as F\n",
    "from torch_geometric.nn import GCNConv, GATConv\n",
    "from sklearn.metrics import (\n",
    "    precision_score, \n",
    "    recall_score, \n",
    "    f1_score,\n",
    "    confusion_matrix, \n",
    "    classification_report\n",
    ")\n",
    "\n",
    "import warnings\n",
    "warnings.filterwarnings(\"ignore\", category=FutureWarning)"
   ]
  },
  {
   "cell_type": "code",
   "execution_count": 2,
   "metadata": {},
   "outputs": [],
   "source": [
    "# Prepare Data\n",
    "# Note it's been changed from /data to /elliptic_bitcoin_dataset\n",
    "data_root = './elliptic_bitcoin_dataset'\n",
    "elliptic_txs_features = pd.read_csv(os.path.join(data_root, 'elliptic_txs_features.csv'), header=None)\n",
    "elliptic_txs_edgelist = pd.read_csv(os.path.join(data_root, 'elliptic_txs_edgelist.csv'))\n",
    "elliptic_txs_classes = pd.read_csv(os.path.join(data_root, 'elliptic_txs_classes.csv'))\n",
    "\n",
    "elliptic_txs_features.columns = ['txId'] + [f'V{i}' for i in range(1, 167)]\n"
   ]
  },
  {
   "cell_type": "code",
   "execution_count": 3,
   "metadata": {},
   "outputs": [
    {
     "name": "stdout",
     "output_type": "stream",
     "text": [
      "(203769, 167)\n",
      "(234355, 2)\n",
      "(203769, 2)\n"
     ]
    }
   ],
   "source": [
    "print(elliptic_txs_features.shape)\n",
    "print(elliptic_txs_edgelist.shape)\n",
    "print(elliptic_txs_classes.shape)\n"
   ]
  },
  {
   "cell_type": "code",
   "execution_count": 4,
   "metadata": {},
   "outputs": [],
   "source": [
    "elliptic_txs_classes['class_mapped'] = elliptic_txs_classes['class'].replace({'1': 'illicit', '2': 'licit'})"
   ]
  },
  {
   "cell_type": "code",
   "execution_count": 5,
   "metadata": {},
   "outputs": [],
   "source": [
    "# Create Graph\n",
    "G = nx.from_pandas_edgelist(elliptic_txs_edgelist, 'txId1', 'txId2')"
   ]
  },
  {
   "cell_type": "markdown",
   "metadata": {},
   "source": [
    "## Random seed settings"
   ]
  },
  {
   "cell_type": "code",
   "execution_count": 6,
   "metadata": {},
   "outputs": [],
   "source": [
    "RANDOM_STATE = 42\n",
    "NUM_EPOCHS = 30"
   ]
  },
  {
   "cell_type": "code",
   "execution_count": 7,
   "metadata": {},
   "outputs": [],
   "source": [
    "def set_seed_for_torch(seed):\n",
    "    torch.manual_seed(seed)\n",
    "    if torch.cuda.is_available():\n",
    "        torch.cuda.manual_seed(seed)      # For single-GPU.\n",
    "        torch.cuda.manual_seed_all(seed)  # For multi-GPU.\n",
    "    torch.backends.cudnn.deterministic = True\n",
    "    torch.backends.cudnn.benchmark = False\n",
    "    \n",
    "def set_seed_for_numpy(seed):\n",
    "    np.random.seed(seed) \n",
    "    \n",
    "def set_seed_for_random(seed):\n",
    "    random.seed(seed)  "
   ]
  },
  {
   "cell_type": "code",
   "execution_count": 8,
   "metadata": {},
   "outputs": [],
   "source": [
    "set_seed_for_torch(RANDOM_STATE)\n",
    "set_seed_for_numpy(RANDOM_STATE)\n",
    "set_seed_for_random(RANDOM_STATE)"
   ]
  },
  {
   "cell_type": "markdown",
   "metadata": {},
   "source": [
    "## EDA"
   ]
  },
  {
   "cell_type": "code",
   "execution_count": 9,
   "metadata": {},
   "outputs": [],
   "source": [
    "# Spaceholders for EDA"
   ]
  },
  {
   "cell_type": "markdown",
   "metadata": {},
   "source": [
    "## Preprocess Data"
   ]
  },
  {
   "cell_type": "code",
   "execution_count": 10,
   "metadata": {},
   "outputs": [],
   "source": [
    "tx_id_mapping = {tx_id: idx for idx, tx_id in enumerate(elliptic_txs_features['txId'])}\n",
    "\n",
    "# Create an explicit copy of the filtered DataFrame\n",
    "edges_with_features = elliptic_txs_edgelist[elliptic_txs_edgelist['txId1'].isin(list(tx_id_mapping.keys())) & \n",
    "                                           elliptic_txs_edgelist['txId2'].isin(list(tx_id_mapping.keys()))].copy()\n",
    "\n",
    "# Now use loc to set values (though with copy() above, direct assignment would also work)\n",
    "edges_with_features.loc[:, 'Id1'] = edges_with_features['txId1'].map(tx_id_mapping)\n",
    "edges_with_features.loc[:, 'Id2'] = edges_with_features['txId2'].map(tx_id_mapping)"
   ]
  },
  {
   "cell_type": "code",
   "execution_count": 11,
   "metadata": {},
   "outputs": [],
   "source": [
    "edge_index = torch.tensor(edges_with_features[['Id1', 'Id2']].values.T, dtype=torch.long)\n",
    "node_features = torch.tensor(elliptic_txs_features.drop(columns=['txId']).values, \n",
    "                             dtype=torch.float)"
   ]
  },
  {
   "cell_type": "code",
   "execution_count": 12,
   "metadata": {},
   "outputs": [],
   "source": [
    "le = LabelEncoder()\n",
    "class_labels = le.fit_transform(elliptic_txs_classes['class'])\n",
    "node_labels = torch.tensor(class_labels, dtype=torch.long)\n",
    "original_labels = le.inverse_transform(class_labels)"
   ]
  },
  {
   "cell_type": "code",
   "execution_count": 13,
   "metadata": {},
   "outputs": [],
   "source": [
    "data = Data(x=node_features, \n",
    "            edge_index=edge_index, \n",
    "            y=node_labels)"
   ]
  },
  {
   "cell_type": "code",
   "execution_count": 14,
   "metadata": {},
   "outputs": [],
   "source": [
    "device = torch.device('cuda' if torch.cuda.is_available() else 'cpu')"
   ]
  },
  {
   "cell_type": "code",
   "execution_count": 15,
   "metadata": {},
   "outputs": [],
   "source": [
    "known_mask   = (data.y == 0) | (data.y == 1)  # Only nodes with known labels licit or illicit\n",
    "unknown_mask = data.y == 2                    # Nodes with unknown labels"
   ]
  },
  {
   "cell_type": "code",
   "execution_count": 16,
   "metadata": {},
   "outputs": [
    {
     "name": "stdout",
     "output_type": "stream",
     "text": [
      "Number of observations per split\n",
      "    Training   :     37,251 (80.00 %)\n",
      "    Validation :      4,656 (10.00 %)\n",
      "    Testing    :      4,657 (10.00 %)\n",
      "\n"
     ]
    }
   ],
   "source": [
    "num_known_nodes = known_mask.sum().item()\n",
    "permutations = torch.randperm(num_known_nodes)\n",
    "train_size = int(0.8 * num_known_nodes)\n",
    "val_size = int(0.1 * num_known_nodes)\n",
    "test_size = num_known_nodes - train_size - val_size\n",
    "\n",
    "total = np.sum([train_size, val_size, test_size])\n",
    "\n",
    "print(f\"\"\"Number of observations per split\n",
    "    Training   : {train_size:10,} ({100*train_size/total:0.2f} %)\n",
    "    Validation : {val_size:10,} ({100*val_size/total:0.2f} %)\n",
    "    Testing    : {test_size:10,} ({100*test_size/total:0.2f} %)\n",
    "\"\"\")"
   ]
  },
  {
   "cell_type": "code",
   "execution_count": 17,
   "metadata": {},
   "outputs": [
    {
     "name": "stdout",
     "output_type": "stream",
     "text": [
      "203769\n"
     ]
    }
   ],
   "source": [
    "data.train_mask = torch.zeros(data.num_nodes, dtype=torch.bool)\n",
    "data.val_mask = torch.zeros(data.num_nodes, dtype=torch.bool)\n",
    "data.test_mask = torch.zeros(data.num_nodes, dtype=torch.bool)\n",
    "\n",
    "train_indices = known_mask.nonzero(as_tuple=True)[0][permutations[:train_size]]\n",
    "val_indices = known_mask.nonzero(as_tuple=True)[0][permutations[train_size:train_size + val_size]]\n",
    "test_indices = known_mask.nonzero(as_tuple=True)[0][permutations[train_size + val_size:]]\n",
    "\n",
    "data.train_mask[train_indices] = True\n",
    "data.val_mask[val_indices] = True\n",
    "data.test_mask[test_indices] = True\n",
    "\n",
    "print(len(data.train_mask))"
   ]
  },
  {
   "cell_type": "markdown",
   "metadata": {},
   "source": [
    "## Preliminary Results by Baseline Models GCN"
   ]
  },
  {
   "cell_type": "code",
   "execution_count": 18,
   "metadata": {},
   "outputs": [],
   "source": [
    "# ------------------------------------------- #\n",
    "# Training, Evaluation and prediction methods #\n",
    "# ------------------------------------------- #\n",
    "\n",
    "def train(model, data, optimizer, criterion):\n",
    "    model.train()\n",
    "    optimizer.zero_grad()\n",
    "    out = model(data)\n",
    "    loss = criterion(out[data.train_mask], data.y[data.train_mask])\n",
    "    loss.backward()\n",
    "    optimizer.step()\n",
    "    return loss.item()\n",
    "\n",
    "\n",
    "def evaluate(model, data, mask):\n",
    "    model.eval()\n",
    "    with torch.no_grad():\n",
    "        out = model(data)\n",
    "        pred = out.argmax(dim=1)\n",
    "        \n",
    "        correct = (pred[mask] == data.y[mask]).sum().item()\n",
    "        accuracy = correct / mask.sum().item()\n",
    "\n",
    "        y_true = data.y[mask].cpu().numpy()\n",
    "        y_pred = pred[mask].cpu().numpy()\n",
    "\n",
    "        precision = precision_score(y_true, y_pred, average='weighted', zero_division=0)\n",
    "        recall = recall_score(y_true, y_pred, average='weighted', zero_division=0)\n",
    "        f1 = f1_score(y_true, y_pred, average='weighted', zero_division=0)\n",
    "\n",
    "        metrics = {\n",
    "            'accuracy': accuracy,\n",
    "            'precision': precision,\n",
    "            'recall': recall,\n",
    "            'f1_score': f1\n",
    "        }\n",
    "\n",
    "    return metrics\n",
    "\n",
    "def predict(model, data):\n",
    "    model.eval()\n",
    "    with torch.no_grad():\n",
    "        out = model(data)\n",
    "        pred = out.argmax(dim=1)\n",
    "    return pred\n",
    "\n",
    "def predict_probabilities(model, data):\n",
    "    model.eval()\n",
    "    with torch.no_grad():\n",
    "        out = model(data)\n",
    "        probabilities = torch.exp(out)\n",
    "    return probabilities"
   ]
  },
  {
   "cell_type": "code",
   "execution_count": 19,
   "metadata": {},
   "outputs": [],
   "source": [
    "def train_gnn(num_epochs, data, model, optimizer, criterion):\n",
    "    \n",
    "    train_losses = []\n",
    "    train_accuracies = []\n",
    "    train_precisions = []\n",
    "    train_recalls = []\n",
    "    train_f1_scores = []\n",
    "\n",
    "    val_accuracies = []\n",
    "    val_precisions = []\n",
    "    val_recalls = []\n",
    "    val_f1_scores = []\n",
    "\n",
    "    # ----- #\n",
    "    # Train #\n",
    "    # ----- #\n",
    "\n",
    "    for epoch in range(1, num_epochs + 1):\n",
    "        model.train()\n",
    "        optimizer.zero_grad()\n",
    "        out = model(data)\n",
    "        loss = criterion(out[data.train_mask], \n",
    "                         data.y[data.train_mask])\n",
    "        loss.backward()\n",
    "        optimizer.step()\n",
    "\n",
    "        # --- Calculate training metrics ---\n",
    "        pred_train = out[data.train_mask].argmax(dim=1)\n",
    "        correct_train = (pred_train == data.y[data.train_mask]).sum()\n",
    "        train_acc = int(correct_train) / int(data.train_mask.sum())\n",
    "        train_accuracies.append(train_acc)\n",
    "\n",
    "        y_true_train = data.y[data.train_mask].cpu().numpy()\n",
    "        y_pred_train = pred_train.cpu().numpy()\n",
    "\n",
    "        train_prec = precision_score(y_true_train, y_pred_train, average='weighted', zero_division=0)\n",
    "        train_rec = recall_score(y_true_train, y_pred_train, average='weighted', zero_division=0)\n",
    "        train_f1 = f1_score(y_true_train, y_pred_train, average='weighted', zero_division=0)\n",
    "\n",
    "        train_precisions.append(train_prec)\n",
    "        train_recalls.append(train_rec)\n",
    "        train_f1_scores.append(train_f1)\n",
    "        train_losses.append(loss.item())\n",
    "\n",
    "        # --- Validate and calculate validation metrics ---\n",
    "        model.eval()\n",
    "        with torch.no_grad():\n",
    "            out = model(data)\n",
    "            pred_val = out[data.val_mask].argmax(dim=1)\n",
    "            correct_val = (pred_val == data.y[data.val_mask]).sum()\n",
    "            val_acc = int(correct_val) / int(data.val_mask.sum())\n",
    "            val_accuracies.append(val_acc)\n",
    "\n",
    "            y_true_val = data.y[data.val_mask].cpu().numpy()\n",
    "            y_pred_val = pred_val.cpu().numpy()\n",
    "\n",
    "            val_prec = precision_score(y_true_val, y_pred_val, average='weighted', zero_division=0)\n",
    "            val_rec = recall_score(y_true_val, y_pred_val, average='weighted', zero_division=0)\n",
    "            val_f1 = f1_score(y_true_val, y_pred_val, average='weighted', zero_division=0)\n",
    "\n",
    "            val_precisions.append(val_prec)\n",
    "            val_recalls.append(val_rec)\n",
    "            val_f1_scores.append(val_f1)\n",
    "\n",
    "        if epoch % 10 == 0:        \n",
    "            print(f'Epoch {epoch:03d}, Loss: {loss:.4f}, Train - Acc: {train_acc:.4f} - Prec: {train_prec:.4f} - Rec: {train_rec:.4f} - F1: {train_f1:.4f}')\n",
    "            print(f'                         Val   - Acc: {val_acc:.4f} - Prec: {val_prec:.4f} - Rec: {val_rec:.4f} - F1: {val_f1:.4f}')        \n",
    "\n",
    "    return {\n",
    "        'train': {\n",
    "            'losses': train_losses,\n",
    "            'accuracies': train_accuracies,\n",
    "            'precisions': train_precisions,\n",
    "            'recalls': train_recalls,\n",
    "            'f1_scores': train_f1_scores,\n",
    "        },\n",
    "        'val': {\n",
    "            'accuracies': val_accuracies,\n",
    "            'precisions': val_precisions,\n",
    "            'recalls': val_recalls,\n",
    "            'f1_scores': val_f1_scores,            \n",
    "        }\n",
    "    }"
   ]
  },
  {
   "cell_type": "code",
   "execution_count": 20,
   "metadata": {},
   "outputs": [],
   "source": [
    "def plot_train_val_test_metrics(train_val_metrics, test_metrics, num_epochs):\n",
    "    plt.figure(figsize=(10, 6))\n",
    "\n",
    "    # --- Accuracy ----\n",
    "    plt.subplot(2, 2, 1)\n",
    "    plt.plot(range(1, num_epochs + 1), train_val_metrics['train']['accuracies'], color='C0', linewidth=1.0, label='Training')\n",
    "    plt.plot(range(1, num_epochs + 1), train_val_metrics['val']['accuracies'], color='C1', linewidth=1.0, label='Validation', linestyle=':')\n",
    "    plt.axhline(y=test_metrics['accuracy'], color='C2', linewidth=0.5, linestyle='--', label='Test')\n",
    "    plt.xlabel('Epoch')\n",
    "    plt.ylabel('Accuracy')\n",
    "    plt.legend(fontsize=8)\n",
    "    plt.title('Accuracy')\n",
    "\n",
    "    # --- Precision ---\n",
    "    plt.subplot(2, 2, 2)\n",
    "    plt.plot(range(1, num_epochs + 1), train_val_metrics['train']['precisions'], color='C0', linewidth=1.0, label='Training')\n",
    "    plt.plot(range(1, num_epochs + 1), train_val_metrics['val']['precisions'], color='C1', linewidth=1.0, label='Validation', linestyle=':')\n",
    "    plt.axhline(y=test_metrics['precision'], color='C2', linewidth=0.5, linestyle='--', label='Test')\n",
    "    plt.xlabel('Epoch')\n",
    "    plt.ylabel('Precision')\n",
    "    plt.legend(fontsize=8)\n",
    "    plt.title('Precision')\n",
    "\n",
    "    # --- Recall ---\n",
    "    plt.subplot(2, 2, 3)\n",
    "    plt.plot(range(1, num_epochs + 1), train_val_metrics['train']['recalls'], color='C0', linewidth=1.0, label='Training')\n",
    "    plt.plot(range(1, num_epochs + 1), train_val_metrics['val']['recalls'], color='C1', linewidth=1.0, label='Validation', linestyle=':')\n",
    "    plt.axhline(y=test_metrics['recall'], color='C2', linewidth=0.5, linestyle='--', label='Test')\n",
    "    plt.xlabel('Epoch')\n",
    "    plt.ylabel('Recall')\n",
    "    plt.legend(fontsize=8)\n",
    "    plt.title('Recall')\n",
    "\n",
    "    # --- F1-Score ---\n",
    "    plt.subplot(2, 2, 4)\n",
    "    plt.plot(range(1, num_epochs + 1), train_val_metrics['train']['f1_scores'], linewidth=1.0, color='C0', label='Training')\n",
    "    plt.plot(range(1, num_epochs + 1), train_val_metrics['val']['f1_scores'], linewidth=1.0, color='C1', label='Validation', linestyle=':')\n",
    "    plt.axhline(y=test_metrics['f1_score'], color='C2', linewidth=0.5, linestyle='--', label='Test')\n",
    "    plt.xlabel('Epoch')\n",
    "    plt.ylabel('F1-Score')\n",
    "    plt.legend(fontsize=8)\n",
    "    plt.title('F1-Score')\n",
    "\n",
    "    plt.tight_layout()\n",
    "    plt.show()"
   ]
  },
  {
   "cell_type": "code",
   "execution_count": 35,
   "metadata": {},
   "outputs": [],
   "source": [
    "mapped_classes = np.array(['illicit', 'licit'])"
   ]
  },
  {
   "cell_type": "code",
   "execution_count": 36,
   "metadata": {},
   "outputs": [],
   "source": [
    "class GCN(torch.nn.Module):\n",
    "    def __init__(self, num_node_features, num_classes):\n",
    "        super(GCN, self).__init__()\n",
    "        self.conv1 = GCNConv(num_node_features, 16)\n",
    "        self.conv2 = GCNConv(16, num_classes)\n",
    "\n",
    "    def forward(self, data):\n",
    "        x, edge_index = data.x, data.edge_index\n",
    "        x = self.conv1(x, edge_index)\n",
    "        x = F.relu(x)\n",
    "        x = self.conv2(x, edge_index)\n",
    "        return F.log_softmax(x, dim=1)\n",
    "\n",
    "\n",
    "# ---------- #\n",
    "# Initialize #\n",
    "# ---------- #\n",
    "\n",
    "model = GCN(num_node_features=data.num_features, num_classes=len(le.classes_)).to(device)\n",
    "optimizer = torch.optim.Adam(model.parameters(), \n",
    "                             lr=0.01, \n",
    "                             weight_decay=0.0005)\n",
    "criterion = torch.nn.CrossEntropyLoss()  # Since we have a multiclass classification problem.\n",
    "\n",
    "data = data.to(device)"
   ]
  },
  {
   "cell_type": "code",
   "execution_count": 37,
   "metadata": {},
   "outputs": [
    {
     "name": "stdout",
     "output_type": "stream",
     "text": [
      "Epoch 010, Loss: 0.2950, Train - Acc: 0.8835 - Prec: 0.8808 - Rec: 0.8835 - F1: 0.8821\n",
      "                         Val   - Acc: 0.8924 - Prec: 0.8764 - Rec: 0.8924 - F1: 0.8819\n",
      "Epoch 020, Loss: 0.2534, Train - Acc: 0.8995 - Prec: 0.8924 - Rec: 0.8995 - F1: 0.8955\n",
      "                         Val   - Acc: 0.8928 - Prec: 0.8848 - Rec: 0.8928 - F1: 0.8883\n",
      "Epoch 030, Loss: 0.2201, Train - Acc: 0.9152 - Prec: 0.9005 - Rec: 0.9152 - F1: 0.9024\n",
      "                         Val   - Acc: 0.9049 - Prec: 0.8900 - Rec: 0.9049 - F1: 0.8927\n"
     ]
    }
   ],
   "source": [
    "# ----- #\n",
    "# Train #\n",
    "# ----- #\n",
    "\n",
    "train_val_metrics = train_gnn(NUM_EPOCHS, \n",
    "                              data, \n",
    "                              model, \n",
    "                              optimizer, \n",
    "                              criterion)"
   ]
  },
  {
   "cell_type": "code",
   "execution_count": 38,
   "metadata": {},
   "outputs": [
    {
     "name": "stdout",
     "output_type": "stream",
     "text": [
      "Test Acc: 0.9251 - Prec: 0.9152 - Rec: 0.9251 - F1: 0.9173\n"
     ]
    }
   ],
   "source": [
    "# -------- #\n",
    "# Evaluate on test set #\n",
    "# -------- #\n",
    "\n",
    "model.eval()\n",
    "with torch.no_grad():\n",
    "    \n",
    "    test_metrics = evaluate(model, data, data.test_mask)\n",
    "    test_acc = test_metrics.get('accuracy')\n",
    "    test_prec = test_metrics.get('precision')\n",
    "    test_rec = test_metrics.get('recall')\n",
    "    test_f1 = test_metrics.get('f1_score')\n",
    "\n",
    "    print(f'Test Acc: {test_acc:.4f} - Prec: {test_prec:.4f} - Rec: {test_rec:.4f} - F1: {test_f1:.4f}')"
   ]
  },
  {
   "cell_type": "code",
   "execution_count": 39,
   "metadata": {},
   "outputs": [
    {
     "data": {
      "image/png": "[encoded data removed]",
      "text/plain": [
       "<Figure size 1000x600 with 4 Axes>"
      ]
     },
     "metadata": {},
     "output_type": "display_data"
    }
   ],
   "source": [
    "plot_train_val_test_metrics(train_val_metrics, test_metrics, NUM_EPOCHS)"
   ]
  },
  {
   "cell_type": "code",
   "execution_count": 40,
   "metadata": {},
   "outputs": [],
   "source": [
    "train_pred = predict(model, data)[data.train_mask]\n",
    "test_pred = predict(model, data)[data.test_mask]"
   ]
  },
  {
   "cell_type": "code",
   "execution_count": 41,
   "metadata": {},
   "outputs": [
    {
     "name": "stdout",
     "output_type": "stream",
     "text": [
      "['1']\n",
      "['2']\n",
      "['unknown']\n"
     ]
    }
   ],
   "source": [
    "print(le.inverse_transform([0])) # illicit\n",
    "print(le.inverse_transform([1])) # licit \n",
    "print(le.inverse_transform([2])) # unknown"
   ]
  },
  {
   "cell_type": "code",
   "execution_count": 42,
   "metadata": {},
   "outputs": [
    {
     "name": "stdout",
     "output_type": "stream",
     "text": [
      "Classification Report\n",
      "=====================\n",
      "\n",
      "    TRAIN\n",
      "---------\n",
      "              precision    recall  f1-score   support\n",
      "\n",
      "     illicit       0.62      0.37      0.46      3602\n",
      "       licit       0.94      0.98      0.95     33649\n",
      "\n",
      "    accuracy                           0.92     37251\n",
      "   macro avg       0.78      0.67      0.71     37251\n",
      "weighted avg       0.90      0.92      0.91     37251\n",
      "\n",
      "    TEST\n",
      "--------\n",
      "              precision    recall  f1-score   support\n",
      "\n",
      "     illicit       0.66      0.41      0.51       435\n",
      "       licit       0.94      0.98      0.96      4222\n",
      "\n",
      "    accuracy                           0.93      4657\n",
      "   macro avg       0.80      0.70      0.73      4657\n",
      "weighted avg       0.92      0.93      0.92      4657\n",
      "\n"
     ]
    }
   ],
   "source": [
    "# --- Classification report ---\n",
    "print(\"Classification Report\")\n",
    "print(\"=====================\\n\")\n",
    "\n",
    "# Train.\n",
    "y_true_train = data.y[data.train_mask].cpu().numpy()\n",
    "y_pred_train = train_pred.cpu().numpy()\n",
    "\n",
    "report_train = classification_report(y_true_train, y_pred_train, target_names=mapped_classes)\n",
    "\n",
    "print(f\"{4*' '}TRAIN\")\n",
    "print(\"---------\")\n",
    "print(report_train)\n",
    "\n",
    "# Test.\n",
    "y_true_test = data.y[data.test_mask].cpu().numpy()\n",
    "y_pred_test = test_pred.cpu().numpy()\n",
    "\n",
    "report_test = classification_report(y_true_test, y_pred_test, target_names=mapped_classes)\n",
    "\n",
    "print(f\"{4*' '}TEST\")\n",
    "print(\"--------\")\n",
    "print(report_test)"
   ]
  },
  {
   "cell_type": "markdown",
   "metadata": {},
   "source": []
  },
  {
   "cell_type": "markdown",
   "metadata": {},
   "source": [
    "# "
   ]
  }
 ],
 "metadata": {
  "kernelspec": {
   "display_name": "venv",
   "language": "python",
   "name": "python3"
  },
  "language_info": {
   "codemirror_mode": {
    "name": "ipython",
    "version": 3
   },
   "file_extension": ".py",
   "mimetype": "text/x-python",
   "name": "python",
   "nbconvert_exporter": "python",
   "pygments_lexer": "ipython3",
   "version": "3.10.14"
  }
 },
 "nbformat": 4,
 "nbformat_minor": 2
}
